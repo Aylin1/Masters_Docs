{
 "cells": [
  {
   "cell_type": "code",
   "execution_count": 2,
   "metadata": {},
   "outputs": [],
   "source": [
    "# %pip install segment-geospatial groundingdino-py leafmap localtileserver"
   ]
  },
  {
   "cell_type": "code",
   "execution_count": 1,
   "metadata": {},
   "outputs": [],
   "source": [
    "import os\n",
    "import leafmap\n",
    "from samgeo import split_raster\n",
    "from samgeo.text_sam import LangSAM"
   ]
  },
  {
   "cell_type": "code",
   "execution_count": 2,
   "metadata": {},
   "outputs": [],
   "source": [
    "def find_rgb_image(laz_data_path, dop_folder):\n",
    "    \"\"\"\n",
    "    Extract the unique identifier from a LiDAR .laz file path and find the corresponding .tif in the dop folder.\n",
    "\n",
    "    Parameters:\n",
    "        laz_data_path (str): Path to the LiDAR .laz file.\n",
    "        dop_folder (str): Path to the dop folder containing .tif files.\n",
    "\n",
    "    Returns:\n",
    "        str: Path to the .jpg file if found, else None.\n",
    "    \"\"\"\n",
    "    # Extract the unique identifier (e.g., '33470-5716') from the laz_data_path\n",
    "    file_identifier = os.path.basename(laz_data_path).split('.')[0].split('_')[-1]\n",
    "\n",
    "    # Search for a matching .tif file in the dop folder\n",
    "    for root, _, files in os.walk(dop_folder):\n",
    "        for file in files:\n",
    "            if file_identifier in file and file.endswith('.tif'):\n",
    "                return os.path.join(root, file)\n",
    "    \n",
    "    return None"
   ]
  },
  {
   "cell_type": "code",
   "execution_count": 3,
   "metadata": {},
   "outputs": [],
   "source": [
    "def get_als_dop_matches(als_folder, dop_folder):\n",
    "    \"\"\"\n",
    "    Match ALS files with corresponding DOP images based on their last 5-digit-4-digit tile numbers.\n",
    "\n",
    "    Parameters:\n",
    "    als_folder (str): Path to the ALS folder containing .laz files.\n",
    "    dop_folder (str): Path to the DOP folder containing .tif files.\n",
    "\n",
    "    Returns:\n",
    "    dict: A dictionary where keys are ALS file paths and values are corresponding DOP image paths.\n",
    "    \"\"\"\n",
    "    matches = {}\n",
    "    # Iterate through ALS files\n",
    "    for root, _, files in os.walk(als_folder):\n",
    "        for file in files:\n",
    "            if file.endswith('.laz'):\n",
    "                # Get full path of the ALS file\n",
    "                als_file_path = os.path.join(root, file)\n",
    "                # Find corresponding DOP image\n",
    "                dop_image_path = find_rgb_image(als_file_path, dop_folder)\n",
    "                if dop_image_path:\n",
    "                    matches[als_file_path] = dop_image_path\n",
    "    return matches"
   ]
  },
  {
   "cell_type": "code",
   "execution_count": 4,
   "metadata": {},
   "outputs": [],
   "source": [
    "def create_tiles_from_matches(matches, tile_out_dir=\"tiles\", tile_size=(1000, 1000), overlap=0):\n",
    "    \"\"\"\n",
    "    Create tiles for DOP images based on the matches dictionary.\n",
    "\n",
    "    Parameters:\n",
    "    matches (dict): A dictionary with ALS file paths as keys and DOP image paths as values.\n",
    "    tile_out_dir (str): Path to the output directory for tiles (default: \"tiles\").\n",
    "    tile_size (tuple): Size of tiles for raster splitting (default: (1000, 1000)).\n",
    "    overlap (int): Overlap between tiles (default: 0).\n",
    "    \"\"\"\n",
    "    for als_file, dop_image in matches.items():\n",
    "        # Extract file identifier from the DOP image path\n",
    "        file_identifier = os.path.splitext(os.path.basename(dop_image))[0]\n",
    "\n",
    "        # Output directory for tiles of this DOP image\n",
    "        tile_dir = os.path.join(tile_out_dir, file_identifier)\n",
    "\n",
    "        # Create tiles\n",
    "        split_raster(filename=dop_image, out_dir=tile_dir, tile_size=tile_size, overlap=overlap)\n",
    "\n",
    "        print(f\"Tiles created for {file_identifier}. Saved in {tile_dir}.\")"
   ]
  },
  {
   "cell_type": "code",
   "execution_count": 5,
   "metadata": {},
   "outputs": [],
   "source": [
    "def apply_sam_to_tiles_from_matches(matches, tile_base_dir=\"tiles\", mask_out_dir=\"masks\", text_prompt=\"tree\", box_threshold=0.24, text_threshold=0.24):\n",
    "    \"\"\"\n",
    "    Apply LangSAM to tiles based on the matches dictionary.\n",
    "\n",
    "    Parameters:\n",
    "    matches (dict): A dictionary with ALS file paths as keys and DOP image paths as values.\n",
    "    tile_base_dir (str): Path to the base directory containing tiles.\n",
    "    mask_out_dir (str): Path to the output directory for masks (default: \"masks\").\n",
    "    text_prompt (str): Text prompt for LangSAM (default: \"tree\").\n",
    "    box_threshold (float): Box threshold for LangSAM (default: 0.24).\n",
    "    text_threshold (float): Text threshold for LangSAM (default: 0.24).\n",
    "    \"\"\"\n",
    "    # Instantiate LangSAM once\n",
    "    sam = LangSAM()\n",
    "\n",
    "    for als_file, dop_image in matches.items():\n",
    "        # Extract file identifier from the DOP image path\n",
    "        file_identifier = os.path.splitext(os.path.basename(dop_image))[0]\n",
    "\n",
    "        # Path to the tiles directory for this DOP image\n",
    "        tile_path = os.path.join(tile_base_dir, file_identifier)\n",
    "\n",
    "        # Output directory for masks of this tile group\n",
    "        mask_dir = os.path.join(mask_out_dir, file_identifier)\n",
    "\n",
    "        # Apply LangSAM to the tiles\n",
    "        sam.predict_batch(\n",
    "            images=tile_path,\n",
    "            out_dir=mask_dir,\n",
    "            text_prompt=text_prompt,\n",
    "            box_threshold=box_threshold,\n",
    "            text_threshold=text_threshold,\n",
    "            mask_multiplier=255,\n",
    "            dtype=\"uint8\",\n",
    "            merge=True,\n",
    "            verbose=True,\n",
    "        )\n",
    "\n",
    "        print(f\"Masks created for tiles in {tile_path}. Saved in {mask_dir}.\")"
   ]
  },
  {
   "cell_type": "code",
   "execution_count": 6,
   "metadata": {},
   "outputs": [],
   "source": [
    "def visualize_multiple_segmentation_overlays_leafmap(matches, mask_base_dir=\"masks\", max_images=3):\n",
    "    \"\"\"\n",
    "    Visualize multiple segmentation overlays using Leafmap for the first N images.\n",
    "\n",
    "    Parameters:\n",
    "    matches (dict): A dictionary with ALS file paths as keys and DOP image paths as values.\n",
    "    mask_base_dir (str): Path to the base directory containing segmentation masks.\n",
    "    max_images (int): Maximum number of DOP images to visualize.\n",
    "    \"\"\"\n",
    "    # Create a Leafmap interactive map\n",
    "    m = leafmap.Map(center=[-22.1278, -51.4430], zoom=17, height=\"800px\")\n",
    "\n",
    "    # Add the Satellite Basemap\n",
    "    m.add_basemap(\"SATELLITE\")\n",
    "\n",
    "    count = 0  # Counter to control the maximum number of visualizations\n",
    "    for als_file, dop_image in matches.items():\n",
    "        # Extract file identifier from the DOP image path\n",
    "        file_identifier = os.path.splitext(os.path.basename(dop_image))[0]\n",
    "\n",
    "        # Path to the segmentation mask for this DOP image\n",
    "        segmentation_tif_path = os.path.join(mask_base_dir, file_identifier, \"merged.tif\")\n",
    "\n",
    "        # Check if the segmentation file exists\n",
    "        if not os.path.exists(segmentation_tif_path):\n",
    "            print(f\"Segmentation mask not found for {file_identifier}. Skipping visualization.\")\n",
    "            continue\n",
    "\n",
    "        # Add the original DOP image as a raster layer\n",
    "        try:\n",
    "            m.add_raster(dop_image, layer_name=f\"DOP Image ({file_identifier})\")\n",
    "        except Exception as e:\n",
    "            print(f\"Error adding DOP image to map for {file_identifier}: {e}\")\n",
    "            continue\n",
    "\n",
    "        # Add the segmentation mask as an overlay layer\n",
    "        try:\n",
    "            m.add_raster(segmentation_tif_path, layer_name=f\"Segmentation Mask ({file_identifier})\", opacity=0.5)\n",
    "        except Exception as e:\n",
    "            print(f\"Error adding segmentation mask to map for {file_identifier}: {e}\")\n",
    "            continue\n",
    "\n",
    "        print(f\"Added DOP and segmentation mask for {file_identifier} to the map.\")\n",
    "\n",
    "        # Break after visualizing the maximum number of images\n",
    "        count += 1\n",
    "        if count >= max_images:\n",
    "            break\n",
    "\n",
    "    print(f\"Displaying map with {count} segmentation overlays.\")\n",
    "    return m  # Return the map to visualize the images\n"
   ]
  },
  {
   "cell_type": "code",
   "execution_count": 7,
   "metadata": {},
   "outputs": [
    {
     "name": "stdout",
     "output_type": "stream",
     "text": [
      "ALS File: data/Tschernitz/als\\als_33470-5714\\als_33470-5714.laz -> DOP Image: data/Tschernitz/dop\\dop_33470-5714\\dop_33470-5714.tif\n",
      "ALS File: data/Tschernitz/als\\als_33470-5715\\als_33470-5715.laz -> DOP Image: data/Tschernitz/dop\\dop_33470-5715\\dop_33470-5715.tif\n",
      "ALS File: data/Tschernitz/als\\als_33470-5716\\als_33470-5716.laz -> DOP Image: data/Tschernitz/dop\\dop_33470-5716\\dop_33470-5716.tif\n"
     ]
    }
   ],
   "source": [
    "# Set ALS and DOP folder paths'\n",
    "als_folder = \"data/Tschernitz/als\"\n",
    "dop_folder = \"data/Tschernitz/dop\"\n",
    "\n",
    "# Get matches\n",
    "als_dop_matches = get_als_dop_matches(als_folder, dop_folder)\n",
    "\n",
    "# Print matches\n",
    "for als_file, dop_image in als_dop_matches.items():\n",
    "    print(f\"ALS File: {als_file} -> DOP Image: {dop_image}\")"
   ]
  },
  {
   "cell_type": "code",
   "execution_count": null,
   "metadata": {},
   "outputs": [],
   "source": [
    "# Define output directory for tiles\n",
    "tile_output_directory = \"data/Tschernitz/tiles\"\n",
    "\n",
    "# Create tiles using the matches dictionary\n",
    "#create_tiles_from_matches(als_dop_matches, tile_out_dir=tile_output_directory,  tile_size=(1000, 1000), overlap=0)"
   ]
  },
  {
   "cell_type": "code",
   "execution_count": null,
   "metadata": {},
   "outputs": [],
   "source": [
    "text_prompt=\"tree\"\n",
    "\n",
    "# Define output directory for masks\n",
    "mask_output_directory = f\"data/Tschernitz/ground_truth_masks/{text_prompt}_masks\""
   ]
  },
  {
   "cell_type": "code",
   "execution_count": null,
   "metadata": {},
   "outputs": [],
   "source": [
    "# Apply SAM using the matches dictionary\n",
    "apply_sam_to_tiles_from_matches(als_dop_matches, tile_base_dir=tile_output_directory, mask_out_dir=mask_output_directory)"
   ]
  },
  {
   "cell_type": "code",
   "execution_count": null,
   "metadata": {},
   "outputs": [],
   "source": [
    "# Visualize multiple segmentation overlays using Leafmap\n",
    "leafmap_instance = visualize_multiple_segmentation_overlays_leafmap(als_dop_matches, mask_base_dir=mask_output_directory, max_images=3)\n",
    "leafmap_instance"
   ]
  }
 ],
 "metadata": {
  "kernelspec": {
   "display_name": "segment-geo",
   "language": "python",
   "name": "python3"
  },
  "language_info": {
   "codemirror_mode": {
    "name": "ipython",
    "version": 3
   },
   "file_extension": ".py",
   "mimetype": "text/x-python",
   "name": "python",
   "nbconvert_exporter": "python",
   "pygments_lexer": "ipython3",
   "version": "3.11.10"
  }
 },
 "nbformat": 4,
 "nbformat_minor": 2
}
