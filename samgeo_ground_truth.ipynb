{
 "cells": [
  {
   "cell_type": "code",
   "execution_count": 1,
   "metadata": {},
   "outputs": [],
   "source": [
    "# %pip install segment-geospatial groundingdino-py leafmap localtileserver"
   ]
  },
  {
   "cell_type": "code",
   "execution_count": 1,
   "metadata": {},
   "outputs": [],
   "source": [
    "import os\n",
    "import leafmap\n",
    "from samgeo import split_raster\n",
    "from samgeo.text_sam import LangSAM"
   ]
  },
  {
   "cell_type": "code",
   "execution_count": 2,
   "metadata": {},
   "outputs": [],
   "source": [
    "def create_tiles_from_matches(matches, tile_out_dir=\"tiles\", tile_size=(1000, 1000), overlap=0):\n",
    "    \"\"\"\n",
    "    Create tiles for TIF images based on the matches dictionary.\n",
    "\n",
    "    Parameters:\n",
    "    matches (dict): A dictionary with ALS file paths as keys and TIF image paths as values.\n",
    "    tile_out_dir (str): Path to the output directory for tiles (default: \"tiles\").\n",
    "    tile_size (tuple): Size of tiles for raster splitting (default: (1000, 1000)).\n",
    "    overlap (int): Overlap between tiles (default: 0).\n",
    "    \"\"\"\n",
    "    for als_file, dop_image in matches.items():\n",
    "        # Extract file identifier from the ALS file path\n",
    "        file_identifier = os.path.splitext(os.path.basename(als_file))[0]\n",
    "\n",
    "        # Output directory for tiles of this TIF image\n",
    "        tile_dir = os.path.join(tile_out_dir, file_identifier)\n",
    "\n",
    "        # Ensure dop_image is a string, not a list\n",
    "        if isinstance(dop_image, list):\n",
    "            dop_image = dop_image[0]\n",
    "\n",
    "        # Create tiles from the TIF image\n",
    "        try:\n",
    "            split_raster(filename=dop_image, out_dir=tile_dir, tile_size=tile_size, overlap=overlap)\n",
    "            print(f\"Tiles created for {file_identifier}. Saved in {tile_dir}.\")\n",
    "        except Exception as e:\n",
    "            print(f\"Error creating tiles for {file_identifier}: {e}\")\n"
   ]
  },
  {
   "cell_type": "code",
   "execution_count": 3,
   "metadata": {},
   "outputs": [],
   "source": [
    "def apply_sam_to_tiles_from_matches(matches, tile_base_dir=\"tiles\", mask_out_dir=\"masks\", text_prompt=\"tree\", box_threshold=0.24, text_threshold=0.24):\n",
    "    \"\"\"\n",
    "    Apply LangSAM to tiles based on the matches dictionary.\n",
    "\n",
    "    Parameters:\n",
    "    matches (dict): A dictionary with ALS file paths as keys and DOP image paths as values.\n",
    "    tile_base_dir (str): Path to the base directory containing tiles.\n",
    "    mask_out_dir (str): Path to the output directory for masks (default: \"masks\").\n",
    "    text_prompt (str): Text prompt for LangSAM (default: \"tree\").\n",
    "    box_threshold (float): Box threshold for LangSAM (default: 0.24).\n",
    "    text_threshold (float): Text threshold for LangSAM (default: 0.24).\n",
    "    \"\"\"\n",
    "    # Instantiate LangSAM once\n",
    "    sam = LangSAM()\n",
    "\n",
    "    for als_file, dop_image in matches.items():\n",
    "        # Extract file identifier from the DOP image path\n",
    "        file_identifier = os.path.splitext(os.path.basename(als_file))[0]\n",
    "\n",
    "        # Path to the tiles directory for this DOP image\n",
    "        tile_path = os.path.join(tile_base_dir, file_identifier)\n",
    "\n",
    "        # Output directory for masks of this tile group\n",
    "        mask_dir = os.path.join(mask_out_dir, file_identifier)\n",
    "\n",
    "        # Apply LangSAM to the tiles\n",
    "        sam.predict_batch(\n",
    "            images=tile_path,\n",
    "            out_dir=mask_dir,\n",
    "            text_prompt=text_prompt,\n",
    "            box_threshold=box_threshold,\n",
    "            text_threshold=text_threshold,\n",
    "            mask_multiplier=255,\n",
    "            dtype=\"uint8\",\n",
    "            merge=True,\n",
    "            verbose=True,\n",
    "        )\n",
    "\n",
    "        print(f\"Masks created for tiles in {tile_path}. Saved in {mask_dir}.\")"
   ]
  },
  {
   "cell_type": "code",
   "execution_count": 4,
   "metadata": {},
   "outputs": [],
   "source": [
    "from get_file_matches import get_als_tif_matches"
   ]
  },
  {
   "cell_type": "code",
   "execution_count": null,
   "metadata": {},
   "outputs": [],
   "source": [
    "# Root directory containing all subfolders\n",
    "root_dir = \"data/Tschernitz\"\n",
    "als_subfolder=\"als\"\n",
    "tif_subfolder=\"output\"\n",
    "# Match ALS files with TIF files that contain \"merged\"\n",
    "als_tif_matches = get_als_tif_matches(root_dir,als_subfolder=als_subfolder, tif_subfolder=tif_subfolder, contains='final_input')"
   ]
  },
  {
   "cell_type": "code",
   "execution_count": null,
   "metadata": {},
   "outputs": [],
   "source": [
    "# Define output directory for tiles\n",
    "tile_output_directory = \"data/Tschernitz/tiles/final_input_1000\"\n",
    "\n",
    "# Create tiles using the matches dictionary\n",
    "create_tiles_from_matches(als_tif_matches, tile_out_dir=tile_output_directory,  tile_size=(1000, 1000), overlap=0)"
   ]
  },
  {
   "cell_type": "code",
   "execution_count": 7,
   "metadata": {},
   "outputs": [],
   "source": [
    "text_prompt=\"forest\"\n",
    "\n",
    "# Define output directory for masks\n",
    "mask_output_directory = f\"data/Tschernitz/ground_truth_masks/{text_prompt}_masks\""
   ]
  },
  {
   "cell_type": "code",
   "execution_count": null,
   "metadata": {},
   "outputs": [],
   "source": [
    "# Get the first element from the dictionary\n",
    "first_element = list(als_tif_matches.items())[0]\n",
    "\n",
    "# Convert the first element to another dictionary\n",
    "first_match_dict = {first_element[0]: first_element[1]}"
   ]
  },
  {
   "cell_type": "code",
   "execution_count": null,
   "metadata": {},
   "outputs": [],
   "source": [
    "# Apply SAM using the matches dictionary\n",
    "apply_sam_to_tiles_from_matches(als_tif_matches, tile_base_dir=tile_output_directory, mask_out_dir=mask_output_directory,box_threshold=0.24, text_threshold=0.24)"
   ]
  },
  {
   "cell_type": "code",
   "execution_count": 9,
   "metadata": {},
   "outputs": [],
   "source": [
    "def visualize_overlays(matches, max_images=3):\n",
    "    \"\"\"\n",
    "    Visualize segmentation overlays using Leafmap for the first N images.\n",
    "\n",
    "    Parameters:\n",
    "    matches (dict): A dictionary with ALS file paths as keys and corresponding TIF image paths as values.\n",
    "    max_images (int): Maximum number of TIF images to visualize.\n",
    "    \"\"\"\n",
    "\n",
    "    # Create a Leafmap interactive map\n",
    "    m = leafmap.Map(center=[-22.1278, -51.4430], zoom=17, height=\"800px\")\n",
    "\n",
    "    # Add the Satellite Basemap\n",
    "    m.add_basemap(\"SATELLITE\")\n",
    "\n",
    "    count = 0  # Counter to control the maximum number of visualizations\n",
    "    for als_file, tif_file in matches.items():\n",
    "        # Extract file identifier from the ALS file path\n",
    "        file_identifier = os.path.splitext(os.path.basename(als_file))[0]\n",
    "\n",
    "        # Check if the TIF file exists\n",
    "        if not os.path.exists(tif_file):\n",
    "            print(f\"TIF file not found for {file_identifier}. Skipping visualization.\")\n",
    "            continue\n",
    "\n",
    "        # Add the TIF file as a raster layer\n",
    "        try:\n",
    "            m.add_raster(tif_file, layer_name=f\"Segmentation Mask ({file_identifier})\", opacity=0.6)\n",
    "        except Exception as e:\n",
    "            print(f\"Error adding TIF file to map for {file_identifier}: {e}\")\n",
    "            continue\n",
    "\n",
    "        print(f\"Added segmentation mask for {file_identifier} to the map.\")\n",
    "\n",
    "        # Break after visualizing the maximum number of images\n",
    "        count += 1\n",
    "        if count >= max_images:\n",
    "            break\n",
    "\n",
    "    print(f\"Displaying map with {count} segmentation overlays.\")\n",
    "    return m  # Return the map to visualize the images\n"
   ]
  },
  {
   "cell_type": "code",
   "execution_count": null,
   "metadata": {},
   "outputs": [],
   "source": [
    "# Visualize TIF files from matches\n",
    "segmentation_map = visualize_overlays(als_tif_matches, max_images=3)\n",
    "\n",
    "# To display the map\n",
    "segmentation_map\n"
   ]
  },
  {
   "cell_type": "code",
   "execution_count": null,
   "metadata": {},
   "outputs": [],
   "source": []
  }
 ],
 "metadata": {
  "kernelspec": {
   "display_name": "segment-geo",
   "language": "python",
   "name": "python3"
  },
  "language_info": {
   "codemirror_mode": {
    "name": "ipython",
    "version": 3
   },
   "file_extension": ".py",
   "mimetype": "text/x-python",
   "name": "python",
   "nbconvert_exporter": "python",
   "pygments_lexer": "ipython3",
   "version": "3.11.10"
  }
 },
 "nbformat": 4,
 "nbformat_minor": 2
}
