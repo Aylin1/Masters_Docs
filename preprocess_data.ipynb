{
 "cells": [
  {
   "cell_type": "code",
   "execution_count": 1,
   "metadata": {},
   "outputs": [],
   "source": [
    "from preprocess_and_stack import process_and_save"
   ]
  },
  {
   "cell_type": "code",
   "execution_count": 1,
   "metadata": {},
   "outputs": [
    {
     "name": "stdout",
     "output_type": "stream",
     "text": [
      "Found 3 ALS-DOP pairs.\n",
      "Processing ALS: data/Tschernitz/als\\als_33470-5714\\als_33470-5714.laz, DOP: data/Tschernitz/dop\\dop_33470-5714\\dop_33470-5714.tif\n"
     ]
    }
   ],
   "source": [
    "als_folder = \"data/Tschernitz/als\"\n",
    "dop_folder = \"data/Tschernitz/dop\"\n",
    "output_base_dir = \"data/Tschernitz/output\"\n",
    "\n",
    "process_and_save(als_folder, dop_folder, output_base_dir)"
   ]
  },
  {
   "cell_type": "code",
   "execution_count": null,
   "metadata": {},
   "outputs": [],
   "source": [
    "#stack_and_save(als_folder, dop_folder, output_base_dir) --stacks dop images with chm and slope maps"
   ]
  }
 ],
 "metadata": {
  "kernelspec": {
   "display_name": "segment-geo",
   "language": "python",
   "name": "python3"
  },
  "language_info": {
   "codemirror_mode": {
    "name": "ipython",
    "version": 3
   },
   "file_extension": ".py",
   "mimetype": "text/x-python",
   "name": "python",
   "nbconvert_exporter": "python",
   "pygments_lexer": "ipython3",
   "version": "3.11.10"
  }
 },
 "nbformat": 4,
 "nbformat_minor": 2
}
