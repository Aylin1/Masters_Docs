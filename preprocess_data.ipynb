{
 "cells": [
  {
   "cell_type": "raw",
   "metadata": {
    "vscode": {
     "languageId": "raw"
    }
   },
   "source": [
    "als_33470-5714.laz\n",
    "als_33470-5715.laz\n",
    "als_33470-5716.laz\n",
    "als_33471-5713.laz\n",
    "als_33471-5714.laz\n",
    "als_33471-5715.laz\n",
    "als_33471-5716.laz\n",
    "als_33472-5713.laz\n",
    "als_33472-5714.laz\n",
    "als_33472-5715.laz\n",
    "als_33472-5716.laz\n",
    "als_33473-5713.laz\n",
    "als_33473-5714.laz\n",
    "als_33473-5715.laz\n",
    "als_33474-5713.laz\n",
    "als_33474-5714.laz\n",
    "als_33474-5715.laz\n",
    "als_33475-5713.laz\n",
    "als_33475-5714.laz\n",
    "als_33475-5715.laz"
   ]
  },
  {
   "cell_type": "code",
   "execution_count": 1,
   "metadata": {},
   "outputs": [],
   "source": [
    "from preprocess_and_stack import process_and_save, stack_and_save"
   ]
  },
  {
   "cell_type": "code",
   "execution_count": null,
   "metadata": {},
   "outputs": [],
   "source": [
    "als_folder = \"data/Tschernitz/als\"\n",
    "dop_folder = \"data/Tschernitz/dop\"\n",
    "output_base_dir = \"data/Tschernitz/output\"\n",
    "\n",
    "process_and_save(als_folder, dop_folder, output_base_dir)"
   ]
  },
  {
   "cell_type": "code",
   "execution_count": null,
   "metadata": {},
   "outputs": [],
   "source": [
    "stack_and_save(als_folder, dop_folder, output_base_dir) #stacks dop images with chm and slope maps"
   ]
  },
  {
   "cell_type": "code",
   "execution_count": null,
   "metadata": {},
   "outputs": [],
   "source": []
  }
 ],
 "metadata": {
  "kernelspec": {
   "display_name": "segment-geo",
   "language": "python",
   "name": "python3"
  },
  "language_info": {
   "codemirror_mode": {
    "name": "ipython",
    "version": 3
   },
   "file_extension": ".py",
   "mimetype": "text/x-python",
   "name": "python",
   "nbconvert_exporter": "python",
   "pygments_lexer": "ipython3",
   "version": "3.11.10"
  }
 },
 "nbformat": 4,
 "nbformat_minor": 2
}
